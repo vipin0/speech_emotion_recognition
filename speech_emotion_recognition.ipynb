{
 "cells": [
  {
   "cell_type": "markdown",
   "id": "cd7e9f53-4141-4f52-b704-49fb14e23518",
   "metadata": {},
   "source": [
    "# Speech Emotion Recognition using MLPClassifier"
   ]
  },
  {
   "cell_type": "markdown",
   "id": "85c5d50b-86eb-4614-83a9-d1c83abc638a",
   "metadata": {},
   "source": [
    "#### Summary\n",
    "This project presents a deep learning classifier able to predict the emotions of a human speaker encoded in an audio file. The classifier is trained using 2 different datasets, RAVDESS and TESS on 8 classes (neutral, calm, happy, sad, angry, fearful, disgust and surprised).\n",
    "\n",
    "#### Feature set information\n",
    "\n",
    "For this task, the dataset is built using 5252 samples from:\n",
    "\n",
    "- the Ryerson Audio-Visual Database of Emotional Speech and Song (RAVDESS) dataset\n",
    "- the Toronto emotional speech set (TESS) dataset\n",
    "\n",
    "#### The samples include:\n",
    "\n",
    "- 1440 speech files and 1012 Song files from RAVDESS. This dataset includes recordings of 24 professional actors (12 female, 12 male), vocalizing two lexically-matched statements in a neutral North American accent. Speech includes calm, happy, sad, angry, fearful, surprise, and disgust expressions, and song contains calm, happy, sad, angry, and fearful emotions. Each file was rated 10 times on emotional validity, intensity, and genuineness. Ratings were provided by 247 individuals who were characteristic of untrained adult research participants from North America. A further set of 72 participants provided test-retest data. High levels of emotional validity, interrater reliability, and test-retest intrarater reliability were reported. Validation data is open-access, and can be downloaded along with our paper from PLoS ONE.\n",
    "\n",
    "- 2800 files from TESS. A set of 200 target words were spoken in the carrier phrase \"Say the word _____' by two actresses (aged 26 and 64 years) and recordings were made of the set portraying each of seven emotions (anger, disgust, fear, happiness, pleasant surprise, sadness, and neutral). There are 2800 stimuli in total. Two actresses were recruited from the Toronto area. Both actresses speak English as their first language, are university educated, and have musical training. Audiometric testing indicated that both actresses have thresholds within the normal range.\n",
    "\n",
    "The classes the model wants to predict are the following: (0 = neutral, 1 = calm, 2 = happy, 3 = sad, 4 = angry, 5 = fearful, 6 = disgust, 7 = surprised)."
   ]
  },
  {
   "cell_type": "markdown",
   "id": "d0dd5210-63fd-4ff1-9940-2b62a0b8d70a",
   "metadata": {},
   "source": [
    "#### File naming convention\n",
    "\n",
    "Each of the 7356 RAVDESS files has a unique filename. The filename consists of a 7-part numerical identifier (e.g., 02-01-06-01-02-01-12.wav). These identifiers define the stimulus characteristics:\n",
    "\n",
    "***Filename identifiers***\n",
    "\n",
    "- Modality (01 = full-AV, 02 = video-only, 03 = audio-only).\n",
    "- Vocal channel (01 = speech, 02 = song).\n",
    "- Emotion (01 = neutral, 02 = calm, 03 = happy, 04 = sad, 05 = angry, 06 = fearful, 07 = disgust, 08 = surprised).\n",
    "- Emotional intensity (01 = normal, 02 = strong). NOTE: There is no strong intensity for the ‘neutral’ emotion.\n",
    "- Statement (01 = “Kids are talking by the door”, 02 = “Dogs are sitting by the door”).\n",
    "- Repetition (01 = 1st repetition, 02 = 2nd repetition).\n",
    "- Actor (01 to 24. Odd numbered actors are male, even numbered actors are female).\n",
    "\n",
    "***Filename example: 02-01-06-01-02-01-12.wav***\n",
    "\n",
    "- Video-only (02)\n",
    "- Speech (01)\n",
    "- Fearful (06)\n",
    "- Normal intensity (01)\n",
    "- Statement “dogs” (02)\n",
    "- 1st Repetition (01)\n",
    "- 12th Actor (12)\n",
    "- Female, as the actor ID number is even."
   ]
  },
  {
   "cell_type": "code",
   "execution_count": 30,
   "id": "fe83c77d-c3d7-4e85-8839-96ab3af3ac06",
   "metadata": {},
   "outputs": [],
   "source": [
    "#Install all the Reqiuired Libraries and Packages \n",
    "import os\n",
    "import glob\n",
    "import random\n",
    "import shutil\n",
    "from tqdm import tqdm\n",
    "import pandas as pd\n",
    "import numpy as np\n",
    "import matplotlib.pyplot as plt\n",
    "from scipy import signal\n",
    "from scipy.io import wavfile \n",
    "from scipy.fftpack import fft\n",
    "from python_speech_features import mfcc , logfbank\n",
    "import librosa as lr\n",
    "import pickle\n",
    "import soundfile\n",
    "import speech_recognition as sr\n",
    "from sklearn.neural_network import MLPClassifier\n",
    "from sklearn.model_selection import train_test_split\n",
    "from sklearn.metrics import accuracy_score\n",
    "from sklearn.metrics import classification_report\n",
    "get_ipython().magic('matplotlib inline')"
   ]
  },
  {
   "cell_type": "code",
   "execution_count": 31,
   "id": "d4f9706b-ff9c-4d16-99c9-07237fd38f41",
   "metadata": {},
   "outputs": [],
   "source": [
    "# setting base directory for the project\n",
    "CURR_DIR = os.getcwd()\n",
    "# print(CURR_DIR)\n",
    "# BASE_DIR = f\"{CURR_DIR}/drive/MyDrive/project-final\"\n",
    "BASE_DIR = CURR_DIR\n",
    "# print(f\"{BASE_DIR}\")\n",
    "\n",
    "DATASET_PATH = os.path.join(BASE_DIR,'datasets')\n",
    "# print(DATASET_PATH)\n",
    "TRAINING_FILES_PATH = os.path.join(BASE_DIR,'training_dataset')\n",
    "# print(TRAINING_FILES_PATH)"
   ]
  },
  {
   "cell_type": "code",
   "execution_count": 32,
   "id": "f9d1b052-f345-4ed4-ae0d-fcabcde743a1",
   "metadata": {
    "tags": []
   },
   "outputs": [
    {
     "name": "stdout",
     "output_type": "stream",
     "text": [
      "********** Done ********************\n"
     ]
    }
   ],
   "source": [
    "\"\"\"\n",
    "We are filling folders Actor_25 if YAF and Actor_26 if OAF.\n",
    "The files will be copied and renamed and not simply moved (to avoid messing up\n",
    "things during the development of the pipeline.\n",
    "Actor_25 and Actor_26 folders must be created before launching this script.\n",
    "Example filename: 03-01-07-02-02-01-01.wav\n",
    "\"\"\"\n",
    "\n",
    "path = os.path.join(DATASET_PATH,'TESS_Toronto_emotional_speech_dataset')\n",
    "counter = 0\n",
    "\n",
    "label_conversion = {'01': 'neutral',\n",
    "                    '03': 'happy',\n",
    "                    '04': 'sad',\n",
    "                    '05': 'angry',\n",
    "                    '06': 'fear',\n",
    "                    '07': 'disgust',\n",
    "                    '08': 'ps'}\n",
    "'''\n",
    "for subdir, dirs, files in os.walk(path):\n",
    "    for filename in files:\n",
    "        if filename.startswith('OAF'):\n",
    "            destination_path = os.path.join(TRAINING_FILES_PATH,'Actor_26')\n",
    "            # print(destination_path)\n",
    "            old_file_path = os.path.join(os.path.abspath(subdir), filename)\n",
    "            # print(old_file_path)\n",
    "\n",
    "            # Separate base from extension\n",
    "            base, extension = os.path.splitext(filename)\n",
    "\n",
    "            for key, value in label_conversion.items():\n",
    "                if base.endswith(value):\n",
    "                    random_list = random.sample(range(10, 99), 7)\n",
    "                    file_name = '-'.join([str(i) for i in random_list])\n",
    "                    file_name_with_correct_emotion = file_name[:6] + key + file_name[8:] + extension\n",
    "                    # new_file_path = destination_path + file_name_with_correct_emotion\n",
    "                    new_file_path = os.path.join(destination_path ,file_name_with_correct_emotion)\n",
    "                    # print(new_file_path)\n",
    "                    shutil.copy(old_file_path, new_file_path)\n",
    "\n",
    "        else:\n",
    "            destination_path = os.path.join(TRAINING_FILES_PATH,'Actor_25')\n",
    "            old_file_path = os.path.join(os.path.abspath(subdir), filename)\n",
    "\n",
    "            # Separate base from extension\n",
    "            base, extension = os.path.splitext(filename)\n",
    "\n",
    "            for key, value in label_conversion.items():\n",
    "                if base.endswith(value):\n",
    "                    random_list = random.sample(range(10, 99), 7)\n",
    "                    file_name = '-'.join([str(i) for i in random_list])\n",
    "                    file_name_with_correct_emotion = (file_name[:6] + key + file_name[8:] + extension).strip()\n",
    "                    new_file_path = os.path.join(destination_path ,file_name_with_correct_emotion)\n",
    "                    shutil.copy(old_file_path, new_file_path)\n",
    "'''\n",
    "print(\"********** Done ********************\")"
   ]
  },
  {
   "cell_type": "code",
   "execution_count": 33,
   "id": "65139364-16ff-404c-9b62-ddd12b8628c1",
   "metadata": {},
   "outputs": [],
   "source": [
    "#Now Cleaning Step is Performed where:\n",
    "#DOWN SAMPLING OF AUDIO FILES IS DONE  AND PUT MASK OVER IT AND DIRECT INTO CLEAN FOLDER\n",
    "#MASK IS TO REMOVE UNNECESSARY EMPTY VOIVES AROUND THE MAIN AUDIO VOICE \n",
    "def envelope(y , rate, threshold):\n",
    "    mask=[]\n",
    "    y=pd.Series(y).apply(np.abs)\n",
    "    y_mean = y.rolling(window=int(rate/10) ,  min_periods=1 , center = True).mean()\n",
    "    for mean in y_mean:\n",
    "        if mean>threshold:\n",
    "            mask.append(True)\n",
    "        else:\n",
    "            mask.append(False)\n",
    "    return mask"
   ]
  },
  {
   "cell_type": "code",
   "execution_count": 5,
   "id": "fc284a18-fc52-4651-8c16-203567f27249",
   "metadata": {},
   "outputs": [
    {
     "name": "stderr",
     "output_type": "stream",
     "text": [
      "100%|████████████████████████████████████████████████████████████████████| 5251/5251 [17:35<00:00,  4.97it/s]\n"
     ]
    }
   ],
   "source": [
    "#The clean Audio Files are redirected to Clean Audio Folder Directory \n",
    "\n",
    "for file in tqdm(glob.glob(f'{TRAINING_FILES_PATH}/**/*.wav')):\n",
    "    file_name = os.path.basename(file)\n",
    "    signal , rate = lr.load(file, sr=16000)\n",
    "    mask = envelope(signal,rate, 0.0005)\n",
    "    wavfile.write(filename= f'{BASE_DIR}/clean_speech/'+str(file_name), rate=rate,data=signal[mask])"
   ]
  },
  {
   "cell_type": "code",
   "execution_count": 34,
   "id": "a7384551-16bd-4e76-a8ea-a58a594ab663",
   "metadata": {},
   "outputs": [],
   "source": [
    "#Emotions in the RAVDESS dataset to be classified Audio Files based on . \n",
    "emotions={\n",
    "  '01':'neutral',\n",
    "  '02':'calm',\n",
    "  '03':'happy',\n",
    "  '04':'sad',\n",
    "  '05':'angry',\n",
    "  '06':'fearful',\n",
    "  '07':'disgust',\n",
    "  '08':'surprised'\n",
    "}"
   ]
  },
  {
   "cell_type": "code",
   "execution_count": 7,
   "id": "a013c5fd-f6b9-42bc-90ad-34ffa076efa1",
   "metadata": {},
   "outputs": [],
   "source": [
    "# Extract features (mfcc, chroma, mel) from a sound file\n",
    "def extract_feature(file_name, mfcc, chroma, mel):\n",
    "    with soundfile.SoundFile(file_name) as sound_file:\n",
    "        X = sound_file.read(dtype=\"float32\")\n",
    "        sample_rate=sound_file.samplerate\n",
    "        if chroma:\n",
    "            stft=np.abs(lr.stft(X))\n",
    "        result=np.array([])\n",
    "        if mfcc:\n",
    "            mfccs=np.mean(lr.feature.mfcc(y=X, sr=sample_rate, n_mfcc=40).T, axis=0)\n",
    "            result=np.hstack((result, mfccs))\n",
    "        if chroma:\n",
    "            chroma=np.mean(lr.feature.chroma_stft(S=stft, sr=sample_rate).T,axis=0)\n",
    "            result=np.hstack((result, chroma))\n",
    "        if mel:\n",
    "            mel=np.mean(lr.feature.melspectrogram(X, sr=sample_rate).T,axis=0)\n",
    "            result=np.hstack((result, mel))\n",
    "        return result\n"
   ]
  },
  {
   "cell_type": "code",
   "execution_count": 35,
   "id": "d991b487-f250-46ce-a056-20a7ef3147d8",
   "metadata": {},
   "outputs": [
    {
     "name": "stdout",
     "output_type": "stream",
     "text": [
      "Done\n"
     ]
    }
   ],
   "source": [
    "#Load the data and extract features for each sound file\n",
    "def load_data(test_size=0.33):\n",
    "    x,y=[],[]\n",
    "    answer = 0\n",
    "    for file in glob.glob(f\"{BASE_DIR}/clean_speech/*.wav\"):\n",
    "        file_name=os.path.basename(file)\n",
    "        # print(file_name)\n",
    "        emotion=emotions[file_name.split(\"-\")[2]]\n",
    "        feature=extract_feature(file, mfcc=True, chroma=True, mel=True)\n",
    "        x.append(feature)\n",
    "        y.append([emotion,file_name])\n",
    "\n",
    "    return train_test_split(np.array(x), y, test_size=test_size, random_state=9)\n",
    "print('Done')"
   ]
  },
  {
   "cell_type": "code",
   "execution_count": 36,
   "id": "d3520863-3300-4a57-836a-a3e8e3053b27",
   "metadata": {},
   "outputs": [
    {
     "name": "stdout",
     "output_type": "stream",
     "text": [
      "(3938, 180) (1313, 180) (3938, 2) (1313, 2)\n",
      "(3938,) (1313,)\n"
     ]
    }
   ],
   "source": [
    "x_train,x_test,y_train,y_test=load_data(test_size=0.25)\n",
    "print(np.shape(x_train),np.shape(x_test), np.shape(y_train),np.shape(y_test))\n",
    "y_test_map = np.array(y_test).T\n",
    "y_test = y_test_map[0]\n",
    "test_filename = y_test_map[1]\n",
    "y_train_map = np.array(y_train).T\n",
    "y_train = y_train_map[0]\n",
    "train_filename = y_train_map[1]\n",
    "print(np.shape(y_train),np.shape(y_test))\n",
    "# print(*test_filename,sep=\"\\n\")"
   ]
  },
  {
   "cell_type": "code",
   "execution_count": 37,
   "id": "1e02f7e8-7c46-4de5-bb73-271487951c00",
   "metadata": {},
   "outputs": [
    {
     "name": "stdout",
     "output_type": "stream",
     "text": [
      "(3938, 1313)\n",
      "Features extracted: 180\n"
     ]
    }
   ],
   "source": [
    "#Get the shape of the training and testing datasets\n",
    "print((x_train.shape[0], x_test.shape[0]))\n",
    "#Get the number of features extracted\n",
    "print(f'Features extracted: {x_train.shape[1]}')"
   ]
  },
  {
   "cell_type": "code",
   "execution_count": 38,
   "id": "ac73ab86-c4e5-4fea-be04-56e70874799b",
   "metadata": {},
   "outputs": [],
   "source": [
    "#Initialize the Multi Layer Perceptron Classifier\n",
    "model=MLPClassifier(alpha=0.01, batch_size=256, epsilon=1e-08, hidden_layer_sizes=(400, 350, 300), learning_rate='adaptive', max_iter=2000,early_stopping=False)"
   ]
  },
  {
   "cell_type": "code",
   "execution_count": 39,
   "id": "837f0ebf-aa20-4ed6-a29b-e7412ca624b7",
   "metadata": {},
   "outputs": [],
   "source": [
    "#Train the model\n",
    "model = model.fit(x_train,y_train)"
   ]
  },
  {
   "cell_type": "code",
   "execution_count": 13,
   "id": "fb27c055-9dee-4daf-98b2-c6f93cf1d1b1",
   "metadata": {},
   "outputs": [],
   "source": [
    "# Save the Modle to file in the current working directory\n",
    "#For any new testing data other than the data in dataset\n",
    "model_filename = f\"{BASE_DIR}/model/SER_Model.pkl\"  \n",
    "\n",
    "with open(model_filename, 'wb') as file:  \n",
    "    pickle.dump(model, file)\n"
   ]
  },
  {
   "cell_type": "code",
   "execution_count": 14,
   "id": "eed63162-1d88-4db4-9d2c-b628dc9cc417",
   "metadata": {},
   "outputs": [],
   "source": [
    "# Load the Model back from file \n",
    "with open(model_filename, 'rb') as file:\n",
    "    SER_Model = pickle.load(file)\n"
   ]
  },
  {
   "cell_type": "code",
   "execution_count": 40,
   "id": "c3375694-0bf1-4095-9bf6-9d2815f88195",
   "metadata": {},
   "outputs": [],
   "source": [
    "#predicting :\n",
    "# x_test=train_test_split(test_size=0.25)\n",
    "y_pred=SER_Model.predict(x_test)"
   ]
  },
  {
   "cell_type": "code",
   "execution_count": 55,
   "id": "5eef3b33-df08-41ae-a658-da5b50ba435d",
   "metadata": {},
   "outputs": [
    {
     "name": "stdout",
     "output_type": "stream",
     "text": [
      "              precision    recall  f1-score   support\n",
      "\n",
      "       angry       0.95      0.82      0.88       188\n",
      "        calm       0.84      0.84      0.84       104\n",
      "     disgust       0.78      0.93      0.84       149\n",
      "     fearful       0.72      0.88      0.79       185\n",
      "       happy       0.80      0.83      0.81       173\n",
      "     neutral       0.96      0.86      0.91       165\n",
      "         sad       0.90      0.76      0.82       201\n",
      "   surprised       0.85      0.86      0.86       148\n",
      "\n",
      "    accuracy                           0.84      1313\n",
      "   macro avg       0.85      0.84      0.84      1313\n",
      "weighted avg       0.85      0.84      0.84      1313\n",
      "\n"
     ]
    }
   ],
   "source": [
    "# classification report\n",
    "print(classification_report(y_test, y_pred))"
   ]
  },
  {
   "cell_type": "code",
   "execution_count": 41,
   "id": "a6d71942-4a5c-4abd-a1c2-aa69046d3644",
   "metadata": {},
   "outputs": [
    {
     "data": {
      "image/png": "[encoded data removed]",
      "text/plain": [
       "<Figure size 432x288 with 1 Axes>"
      ]
     },
     "metadata": {
      "needs_background": "light"
     },
     "output_type": "display_data"
    }
   ],
   "source": [
    "# plotting loss curve\n",
    "plt.plot(model.loss_curve_)\n",
    "plt.title = \"Loss Curve\"\n",
    "plt.xlabel = 'Iterations'\n",
    "plt.ylabel = 'Cost'\n",
    "plt.show()"
   ]
  },
  {
   "cell_type": "code",
   "execution_count": 42,
   "id": "a3e13886-c99a-49bc-8961-9f85c4ae728d",
   "metadata": {},
   "outputs": [
    {
     "name": "stdout",
     "output_type": "stream",
     "text": [
      "Accuracy: 86.14%\n"
     ]
    }
   ],
   "source": [
    "# Calculate the accuracy of our model. \n",
    "accuracy = accuracy_score(y_true=y_test, y_pred=y_pred) \n",
    "# Print the accuracy \n",
    "print(\"Accuracy: {:.2f}%\".format(accuracy*100))"
   ]
  },
  {
   "cell_type": "code",
   "execution_count": 43,
   "id": "57e7f288-d423-4951-a11c-793ab1fed006",
   "metadata": {},
   "outputs": [
    {
     "name": "stdout",
     "output_type": "stream",
     "text": [
      "     predictions                file_names\n",
      "0            sad  57-46-04-37-87-52-73.wav\n",
      "1      surprised  03-01-08-01-02-02-15.wav\n",
      "2        disgust  66-89-07-78-34-70-19.wav\n",
      "3      surprised  64-60-08-38-58-61-45.wav\n",
      "4        neutral  18-78-01-65-98-63-41.wav\n",
      "...          ...                       ...\n",
      "1308       angry  03-01-05-02-01-01-24.wav\n",
      "1309         sad  15-87-04-88-47-39-12.wav\n",
      "1310         sad  38-94-04-98-85-40-57.wav\n",
      "1311       happy  03-01-03-01-02-02-21.wav\n",
      "1312         sad  03-02-04-02-01-01-16.wav\n",
      "\n",
      "[1313 rows x 2 columns]\n"
     ]
    }
   ],
   "source": [
    "y_pred1 = pd.DataFrame(y_pred, columns=['predictions'])\n",
    "y_pred1['file_names'] = test_filename\n",
    "print(y_pred1)\n",
    "y_pred1.to_csv(f'{BASE_DIR}/prediction.csv')"
   ]
  },
  {
   "cell_type": "code",
   "execution_count": 65,
   "id": "f5b983ef-9277-4a79-8268-c4a0c8d4ed05",
   "metadata": {},
   "outputs": [
    {
     "name": "stdout",
     "output_type": "stream",
     "text": [
      "epoch:  0\n"
     ]
    },
    {
     "name": "stderr",
     "output_type": "stream",
     "text": [
      "D:\\project-main\\.venv\\lib\\site-packages\\sklearn\\neural_network\\_multilayer_perceptron.py:611: UserWarning: Got `batch_size` less than 1 or larger than sample size. It is going to be clipped\n",
      "  warnings.warn(\n"
     ]
    },
    {
     "name": "stdout",
     "output_type": "stream",
     "text": [
      "epoch:  1\n"
     ]
    },
    {
     "name": "stderr",
     "output_type": "stream",
     "text": [
      "D:\\project-main\\.venv\\lib\\site-packages\\sklearn\\neural_network\\_multilayer_perceptron.py:611: UserWarning: Got `batch_size` less than 1 or larger than sample size. It is going to be clipped\n",
      "  warnings.warn(\n"
     ]
    },
    {
     "name": "stdout",
     "output_type": "stream",
     "text": [
      "epoch:  2\n"
     ]
    },
    {
     "name": "stderr",
     "output_type": "stream",
     "text": [
      "D:\\project-main\\.venv\\lib\\site-packages\\sklearn\\neural_network\\_multilayer_perceptron.py:611: UserWarning: Got `batch_size` less than 1 or larger than sample size. It is going to be clipped\n",
      "  warnings.warn(\n"
     ]
    },
    {
     "name": "stdout",
     "output_type": "stream",
     "text": [
      "epoch:  3\n"
     ]
    },
    {
     "name": "stderr",
     "output_type": "stream",
     "text": [
      "D:\\project-main\\.venv\\lib\\site-packages\\sklearn\\neural_network\\_multilayer_perceptron.py:611: UserWarning: Got `batch_size` less than 1 or larger than sample size. It is going to be clipped\n",
      "  warnings.warn(\n"
     ]
    },
    {
     "name": "stdout",
     "output_type": "stream",
     "text": [
      "epoch:  4\n"
     ]
    },
    {
     "name": "stderr",
     "output_type": "stream",
     "text": [
      "D:\\project-main\\.venv\\lib\\site-packages\\sklearn\\neural_network\\_multilayer_perceptron.py:611: UserWarning: Got `batch_size` less than 1 or larger than sample size. It is going to be clipped\n",
      "  warnings.warn(\n"
     ]
    },
    {
     "name": "stdout",
     "output_type": "stream",
     "text": [
      "epoch:  5\n"
     ]
    },
    {
     "name": "stderr",
     "output_type": "stream",
     "text": [
      "D:\\project-main\\.venv\\lib\\site-packages\\sklearn\\neural_network\\_multilayer_perceptron.py:611: UserWarning: Got `batch_size` less than 1 or larger than sample size. It is going to be clipped\n",
      "  warnings.warn(\n"
     ]
    },
    {
     "name": "stdout",
     "output_type": "stream",
     "text": [
      "epoch:  6\n"
     ]
    },
    {
     "name": "stderr",
     "output_type": "stream",
     "text": [
      "D:\\project-main\\.venv\\lib\\site-packages\\sklearn\\neural_network\\_multilayer_perceptron.py:611: UserWarning: Got `batch_size` less than 1 or larger than sample size. It is going to be clipped\n",
      "  warnings.warn(\n"
     ]
    },
    {
     "name": "stdout",
     "output_type": "stream",
     "text": [
      "epoch:  7\n"
     ]
    },
    {
     "name": "stderr",
     "output_type": "stream",
     "text": [
      "D:\\project-main\\.venv\\lib\\site-packages\\sklearn\\neural_network\\_multilayer_perceptron.py:611: UserWarning: Got `batch_size` less than 1 or larger than sample size. It is going to be clipped\n",
      "  warnings.warn(\n"
     ]
    },
    {
     "name": "stdout",
     "output_type": "stream",
     "text": [
      "epoch:  8\n"
     ]
    },
    {
     "name": "stderr",
     "output_type": "stream",
     "text": [
      "D:\\project-main\\.venv\\lib\\site-packages\\sklearn\\neural_network\\_multilayer_perceptron.py:611: UserWarning: Got `batch_size` less than 1 or larger than sample size. It is going to be clipped\n",
      "  warnings.warn(\n"
     ]
    },
    {
     "name": "stdout",
     "output_type": "stream",
     "text": [
      "epoch:  9\n"
     ]
    },
    {
     "name": "stderr",
     "output_type": "stream",
     "text": [
      "D:\\project-main\\.venv\\lib\\site-packages\\sklearn\\neural_network\\_multilayer_perceptron.py:611: UserWarning: Got `batch_size` less than 1 or larger than sample size. It is going to be clipped\n",
      "  warnings.warn(\n"
     ]
    },
    {
     "name": "stdout",
     "output_type": "stream",
     "text": [
      "epoch:  10\n"
     ]
    },
    {
     "name": "stderr",
     "output_type": "stream",
     "text": [
      "D:\\project-main\\.venv\\lib\\site-packages\\sklearn\\neural_network\\_multilayer_perceptron.py:611: UserWarning: Got `batch_size` less than 1 or larger than sample size. It is going to be clipped\n",
      "  warnings.warn(\n"
     ]
    },
    {
     "name": "stdout",
     "output_type": "stream",
     "text": [
      "epoch:  11\n"
     ]
    },
    {
     "name": "stderr",
     "output_type": "stream",
     "text": [
      "D:\\project-main\\.venv\\lib\\site-packages\\sklearn\\neural_network\\_multilayer_perceptron.py:611: UserWarning: Got `batch_size` less than 1 or larger than sample size. It is going to be clipped\n",
      "  warnings.warn(\n"
     ]
    },
    {
     "name": "stdout",
     "output_type": "stream",
     "text": [
      "epoch:  12\n"
     ]
    },
    {
     "name": "stderr",
     "output_type": "stream",
     "text": [
      "D:\\project-main\\.venv\\lib\\site-packages\\sklearn\\neural_network\\_multilayer_perceptron.py:611: UserWarning: Got `batch_size` less than 1 or larger than sample size. It is going to be clipped\n",
      "  warnings.warn(\n"
     ]
    },
    {
     "name": "stdout",
     "output_type": "stream",
     "text": [
      "epoch:  13\n"
     ]
    },
    {
     "name": "stderr",
     "output_type": "stream",
     "text": [
      "D:\\project-main\\.venv\\lib\\site-packages\\sklearn\\neural_network\\_multilayer_perceptron.py:611: UserWarning: Got `batch_size` less than 1 or larger than sample size. It is going to be clipped\n",
      "  warnings.warn(\n"
     ]
    },
    {
     "name": "stdout",
     "output_type": "stream",
     "text": [
      "epoch:  14\n"
     ]
    },
    {
     "name": "stderr",
     "output_type": "stream",
     "text": [
      "D:\\project-main\\.venv\\lib\\site-packages\\sklearn\\neural_network\\_multilayer_perceptron.py:611: UserWarning: Got `batch_size` less than 1 or larger than sample size. It is going to be clipped\n",
      "  warnings.warn(\n"
     ]
    },
    {
     "name": "stdout",
     "output_type": "stream",
     "text": [
      "epoch:  15\n"
     ]
    },
    {
     "name": "stderr",
     "output_type": "stream",
     "text": [
      "D:\\project-main\\.venv\\lib\\site-packages\\sklearn\\neural_network\\_multilayer_perceptron.py:611: UserWarning: Got `batch_size` less than 1 or larger than sample size. It is going to be clipped\n",
      "  warnings.warn(\n"
     ]
    },
    {
     "name": "stdout",
     "output_type": "stream",
     "text": [
      "epoch:  16\n"
     ]
    },
    {
     "name": "stderr",
     "output_type": "stream",
     "text": [
      "D:\\project-main\\.venv\\lib\\site-packages\\sklearn\\neural_network\\_multilayer_perceptron.py:611: UserWarning: Got `batch_size` less than 1 or larger than sample size. It is going to be clipped\n",
      "  warnings.warn(\n"
     ]
    },
    {
     "name": "stdout",
     "output_type": "stream",
     "text": [
      "epoch:  17\n"
     ]
    },
    {
     "name": "stderr",
     "output_type": "stream",
     "text": [
      "D:\\project-main\\.venv\\lib\\site-packages\\sklearn\\neural_network\\_multilayer_perceptron.py:611: UserWarning: Got `batch_size` less than 1 or larger than sample size. It is going to be clipped\n",
      "  warnings.warn(\n"
     ]
    },
    {
     "name": "stdout",
     "output_type": "stream",
     "text": [
      "epoch:  18\n"
     ]
    },
    {
     "name": "stderr",
     "output_type": "stream",
     "text": [
      "D:\\project-main\\.venv\\lib\\site-packages\\sklearn\\neural_network\\_multilayer_perceptron.py:611: UserWarning: Got `batch_size` less than 1 or larger than sample size. It is going to be clipped\n",
      "  warnings.warn(\n"
     ]
    },
    {
     "name": "stdout",
     "output_type": "stream",
     "text": [
      "epoch:  19\n"
     ]
    },
    {
     "name": "stderr",
     "output_type": "stream",
     "text": [
      "D:\\project-main\\.venv\\lib\\site-packages\\sklearn\\neural_network\\_multilayer_perceptron.py:611: UserWarning: Got `batch_size` less than 1 or larger than sample size. It is going to be clipped\n",
      "  warnings.warn(\n"
     ]
    },
    {
     "name": "stdout",
     "output_type": "stream",
     "text": [
      "epoch:  20\n"
     ]
    },
    {
     "name": "stderr",
     "output_type": "stream",
     "text": [
      "D:\\project-main\\.venv\\lib\\site-packages\\sklearn\\neural_network\\_multilayer_perceptron.py:611: UserWarning: Got `batch_size` less than 1 or larger than sample size. It is going to be clipped\n",
      "  warnings.warn(\n"
     ]
    },
    {
     "name": "stdout",
     "output_type": "stream",
     "text": [
      "epoch:  21\n"
     ]
    },
    {
     "name": "stderr",
     "output_type": "stream",
     "text": [
      "D:\\project-main\\.venv\\lib\\site-packages\\sklearn\\neural_network\\_multilayer_perceptron.py:611: UserWarning: Got `batch_size` less than 1 or larger than sample size. It is going to be clipped\n",
      "  warnings.warn(\n"
     ]
    },
    {
     "name": "stdout",
     "output_type": "stream",
     "text": [
      "epoch:  22\n"
     ]
    },
    {
     "name": "stderr",
     "output_type": "stream",
     "text": [
      "D:\\project-main\\.venv\\lib\\site-packages\\sklearn\\neural_network\\_multilayer_perceptron.py:611: UserWarning: Got `batch_size` less than 1 or larger than sample size. It is going to be clipped\n",
      "  warnings.warn(\n"
     ]
    },
    {
     "name": "stdout",
     "output_type": "stream",
     "text": [
      "epoch:  23\n"
     ]
    },
    {
     "name": "stderr",
     "output_type": "stream",
     "text": [
      "D:\\project-main\\.venv\\lib\\site-packages\\sklearn\\neural_network\\_multilayer_perceptron.py:611: UserWarning: Got `batch_size` less than 1 or larger than sample size. It is going to be clipped\n",
      "  warnings.warn(\n"
     ]
    },
    {
     "name": "stdout",
     "output_type": "stream",
     "text": [
      "epoch:  24\n"
     ]
    },
    {
     "name": "stderr",
     "output_type": "stream",
     "text": [
      "D:\\project-main\\.venv\\lib\\site-packages\\sklearn\\neural_network\\_multilayer_perceptron.py:611: UserWarning: Got `batch_size` less than 1 or larger than sample size. It is going to be clipped\n",
      "  warnings.warn(\n"
     ]
    },
    {
     "data": {
      "image/png": "[encoded data removed]",
      "text/plain": [
       "<Figure size 432x288 with 2 Axes>"
      ]
     },
     "metadata": {
      "needs_background": "light"
     },
     "output_type": "display_data"
    }
   ],
   "source": [
    "N_TRAIN_SAMPLES = x_train.shape[0]\n",
    "\n",
    "N_EPOCHS = 25\n",
    "N_BATCH = 128\n",
    "N_CLASSES = np.unique(y_train)\n",
    "\n",
    "scores_train = []\n",
    "scores_test = []\n",
    "\n",
    "# EPOCH\n",
    "epoch = 0\n",
    "while epoch < N_EPOCHS:\n",
    "    print('epoch: ', epoch)\n",
    "    # SHUFFLING\n",
    "    random_perm = np.random.permutation(x_train.shape[0])\n",
    "    mini_batch_index = 0\n",
    "    while True:\n",
    "        # MINI-BATCH\n",
    "        indices = random_perm[mini_batch_index:mini_batch_index + N_BATCH]\n",
    "        model.partial_fit(x_train[indices], y_train[indices], classes=N_CLASSES)\n",
    "        mini_batch_index += N_BATCH\n",
    "\n",
    "        if mini_batch_index >= N_TRAIN_SAMPLES:\n",
    "            break\n",
    "\n",
    "    # SCORE TRAIN\n",
    "    scores_train.append(model.score(x_train, y_train))\n",
    "\n",
    "    # SCORE TEST\n",
    "    scores_test.append(model.score(x_test, y_test))\n",
    "\n",
    "    epoch += 1\n",
    "\n",
    "\"\"\" Plot \"\"\"\n",
    "fig, ax = plt.subplots(2, sharex=True, sharey=True)\n",
    "ax[0].plot(scores_train)\n",
    "ax[0].set_title('Train')\n",
    "ax[1].plot(scores_test)\n",
    "ax[1].set_title('Test')\n",
    "fig.suptitle(\"Accuracy over epochs\", fontsize=14)\n",
    "plt.show()"
   ]
  },
  {
   "cell_type": "markdown",
   "id": "8a5ab186-0447-4b3c-95cf-d55397a89a3e",
   "metadata": {
    "tags": []
   },
   "source": [
    "### Running examples"
   ]
  },
  {
   "cell_type": "code",
   "execution_count": 44,
   "id": "c26b32ff-6e86-4982-ab7d-9a58d9b4eb0d",
   "metadata": {},
   "outputs": [
    {
     "name": "stdout",
     "output_type": "stream",
     "text": [
      "File : output10.wav  => Emotion : angry\n",
      "File : YAF_book_happy.wav  => Emotion : angry\n"
     ]
    }
   ],
   "source": [
    "# running examples files store in examples directory\n",
    "# to test new files upload it in examples directory\n",
    "for file in glob.glob(f'{BASE_DIR}/examples/*.*'):\n",
    "    data, sampling_rate = lr.load(file)\n",
    "    ## Appying extract_feature function on random file and then loading model to predict the result \n",
    "    ans =[]\n",
    "    new_feature = extract_feature(file, mfcc=True, chroma=True, mel=True)\n",
    "    ans.append(new_feature)\n",
    "    ans = np.array(ans)\n",
    "    predicted = SER_Model.predict(ans)\n",
    "    print(f\"File : {os.path.basename(file)}  => Emotion : {predicted[0]}\")"
   ]
  },
  {
   "cell_type": "code",
   "execution_count": 45,
   "id": "621b52ba-e1f4-4ae8-acc1-f023c37b8d46",
   "metadata": {},
   "outputs": [
    {
     "data": {
      "image/png": "[encoded data removed]",
      "text/plain": [
       "<Figure size 432x288 with 1 Axes>"
      ]
     },
     "metadata": {
      "needs_background": "light"
     },
     "output_type": "display_data"
    }
   ],
   "source": [
    "import matplotlib.pyplot as plt\n",
    "emotion = ['Angry',\n",
    "'Calm',\n",
    "'Disgust',\n",
    "'Fearful',\n",
    "'Happy',\n",
    "'neutral',\n",
    "'sad',\n",
    "'Surprised']\n",
    "accuracy = [0.93,\n",
    "            0.93,\n",
    "            0.85,\n",
    "            0.85,\n",
    "            0.89,\n",
    "            0.93,\n",
    "            0.83,\n",
    "            0.83]\n",
    "plt.plot(emotion,accuracy)\n",
    "plt.title = \"Sports Watch Data\"\n",
    "plt.xlabel = 'Month'\n",
    "plt.ylabel = \"Calorie Burnage\"\n",
    "plt.ylim(ymin=0)\n",
    "plt.ylim(ymax=1)\n",
    "plt.show()"
   ]
  },
  {
   "cell_type": "code",
   "execution_count": null,
   "id": "974d6a57-e869-4110-b522-8f0fd7df32c3",
   "metadata": {},
   "outputs": [],
   "source": []
  }
 ],
 "metadata": {
  "kernelspec": {
   "display_name": "Python 3 (ipykernel)",
   "language": "python",
   "name": "python3"
  },
  "language_info": {
   "codemirror_mode": {
    "name": "ipython",
    "version": 3
   },
   "file_extension": ".py",
   "mimetype": "text/x-python",
   "name": "python",
   "nbconvert_exporter": "python",
   "pygments_lexer": "ipython3",
   "version": "3.9.7"
  }
 },
 "nbformat": 4,
 "nbformat_minor": 5
}
